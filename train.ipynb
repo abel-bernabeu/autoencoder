{
  "nbformat": 4,
  "nbformat_minor": 0,
  "metadata": {
    "kernelspec": {
      "display_name": "Python 3",
      "language": "python",
      "name": "python3"
    },
    "language_info": {
      "codemirror_mode": {
        "name": "ipython",
        "version": 3
      },
      "file_extension": ".py",
      "mimetype": "text/x-python",
      "name": "python",
      "nbconvert_exporter": "python",
      "pygments_lexer": "ipython3",
      "version": "3.6.9"
    },
    "colab": {
      "name": "train.ipynb",
      "provenance": []
    }
  },
  "cells": [
    {
      "cell_type": "code",
      "metadata": {
        "id": "AKr9CMXqSDj2",
        "colab_type": "code",
        "colab": {}
      },
      "source": [
        "# For running on Google Colab:\n",
        "#\n",
        "# 1) Open the notebook from GitHub\n",
        "# 1) Download autoencoder-master.zip from GitHub to your local machine\n",
        "# 2) Upload to the Google Colab notebook\n",
        "# 3) Uncomment the following shell commands\n",
        "# 4) Run the cell\n",
        "#\n",
        "#! rm -rf autoencoder-master autoencoder\n",
        "#! unzip -o autoencoder-master.zip -d .\n",
        "#! mv autoencoder-master/autoencoder .\n",
        "#! rm autoencoder-master -rf"
      ],
      "execution_count": 0,
      "outputs": []
    },
    {
      "cell_type": "code",
      "metadata": {
        "id": "zx4erIQoSDkA",
        "colab_type": "code",
        "colab": {}
      },
      "source": [
        "import autoencoder.models.quantization\n",
        "import autoencoder"
      ],
      "execution_count": 0,
      "outputs": []
    },
    {
      "cell_type": "code",
      "metadata": {
        "id": "5EXszz0fSDkK",
        "colab_type": "code",
        "colab": {}
      },
      "source": [
        "autoencoder.train()\n",
        "quant = autoencoder.models.quantization.Quantize()"
      ],
      "execution_count": 0,
      "outputs": []
    },
    {
      "cell_type": "code",
      "metadata": {
        "id": "tZ5fzkv7SDkP",
        "colab_type": "code",
        "colab": {}
      },
      "source": [
        ""
      ],
      "execution_count": 0,
      "outputs": []
    }
  ]
}