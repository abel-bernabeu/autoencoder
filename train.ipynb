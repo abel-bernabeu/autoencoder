{
  "nbformat": 4,
  "nbformat_minor": 0,
  "metadata": {
    "kernelspec": {
      "display_name": "Python 3",
      "language": "python",
      "name": "python3"
    },
    "language_info": {
      "codemirror_mode": {
        "name": "ipython",
        "version": 3
      },
      "file_extension": ".py",
      "mimetype": "text/x-python",
      "name": "python",
      "nbconvert_exporter": "python",
      "pygments_lexer": "ipython3",
      "version": "3.6.9"
    },
    "colab": {
      "name": "autoencoder-train.ipynb",
      "provenance": [],
      "collapsed_sections": [],
      "include_colab_link": true
    }
  },
  "cells": [
    {
      "cell_type": "markdown",
      "metadata": {
        "id": "view-in-github",
        "colab_type": "text"
      },
      "source": [
        "<a href=\"https://colab.research.google.com/github/abel-bernabeu/autoencoder/blob/master/train.ipynb\" target=\"_parent\"><img src=\"https://colab.research.google.com/assets/colab-badge.svg\" alt=\"Open In Colab\"/></a>"
      ]
    },
    {
      "cell_type": "code",
      "metadata": {
        "id": "AKr9CMXqSDj2",
        "colab_type": "code",
        "colab": {
          "base_uri": "https://localhost:8080/",
          "height": 873
        },
        "outputId": "ced56ac7-ec48-4060-f78a-f68dcfa95545"
      },
      "source": [
        "!rm runs -rf\n",
        "%load_ext tensorboard\n",
        "%tensorboard --logdir runs"
      ],
      "execution_count": 109,
      "outputs": [
        {
          "output_type": "stream",
          "text": [
            "The tensorboard extension is already loaded. To reload it, use:\n",
            "  %reload_ext tensorboard\n"
          ],
          "name": "stdout"
        },
        {
          "output_type": "display_data",
          "data": {
            "text/plain": [
              "Reusing TensorBoard on port 6006 (pid 4874), started 0:26:29 ago. (Use '!kill 4874' to kill it.)"
            ]
          },
          "metadata": {
            "tags": []
          }
        },
        {
          "output_type": "display_data",
          "data": {
            "text/plain": [
              "<IPython.lib.display.IFrame at 0x7ff987d59898>"
            ],
            "text/html": [
              "\n",
              "        <iframe\n",
              "            width=\"100%\"\n",
              "            height=\"800\"\n",
              "            src=\"http://localhost:6006\"\n",
              "            frameborder=\"0\"\n",
              "            allowfullscreen\n",
              "        ></iframe>\n",
              "        "
            ]
          },
          "metadata": {
            "tags": []
          }
        }
      ]
    },
    {
      "cell_type": "code",
      "metadata": {
        "id": "UybQQ57Dia_E",
        "colab_type": "code",
        "colab": {}
      },
      "source": [
        "hparams = {\n",
        "    'batch_size': 4,\n",
        "    'device': 'cuda',\n",
        "    'max_dataset_size': 100,\n",
        "    'train_dataset_size': 50,\n",
        "    'test_dataset_size': 50,\n",
        "    'log_interval': 2,\n",
        "    'num_epochs': 100,\n",
        "    'num_workers': 4,\n",
        "}"
      ],
      "execution_count": 110,
      "outputs": []
    },
    {
      "cell_type": "code",
      "metadata": {
        "id": "5EXszz0fSDkK",
        "colab_type": "code",
        "colab": {}
      },
      "source": [
        "import torch\n",
        "import torch.nn as nn\n",
        "import torch.optim as optim\n",
        "from torch.utils.tensorboard import SummaryWriter\n",
        "import torchvision.utils\n",
        "import torchvision.transforms as transforms\n",
        "import numpy as np\n",
        "import autoencoder.datasets\n",
        "import autoencoder.transforms\n",
        "import autoencoder.models\n",
        "import datetime"
      ],
      "execution_count": 111,
      "outputs": []
    },
    {
      "cell_type": "code",
      "metadata": {
        "id": "AEuC5t4iM_CC",
        "colab_type": "code",
        "colab": {}
      },
      "source": [
        "writer = SummaryWriter('')"
      ],
      "execution_count": 112,
      "outputs": []
    },
    {
      "cell_type": "code",
      "metadata": {
        "id": "lg_XBWvRCE2y",
        "colab_type": "code",
        "colab": {
          "base_uri": "https://localhost:8080/",
          "height": 34
        },
        "outputId": "bf789f74-e15c-4366-d5d1-60c0161abf28"
      },
      "source": [
        "crops = autoencoder.datasets.CropsDataset(\"./data/image_dataset_part-a\", 224, 224, subset_size=hparams['max_dataset_size'], assume_fixed_size=False)"
      ],
      "execution_count": 113,
      "outputs": [
        {
          "output_type": "stream",
          "text": [
            "Collecting sizes from images in ./data/image_dataset_part-a: 100%|██████████| 100/100 [00:00<00:00, 16921.39it/s]\n"
          ],
          "name": "stderr"
        }
      ]
    },
    {
      "cell_type": "code",
      "metadata": {
        "id": "_1IKGDMxCOGL",
        "colab_type": "code",
        "colab": {}
      },
      "source": [
        "# Show a few crops\n",
        "few_crops = [ transforms.ToTensor()(crop[0]) for crop in [crops[index] for index in range(16)]]\n",
        "grid = torchvision.utils.make_grid(few_crops, nrow=4)\n",
        "writer.add_image(\"1) a few crops\", grid)\n",
        "writer.flush()"
      ],
      "execution_count": 114,
      "outputs": []
    },
    {
      "cell_type": "code",
      "metadata": {
        "id": "NaXiCozCEzB0",
        "colab_type": "code",
        "colab": {}
      },
      "source": [
        "# Random split in train and test sets\n",
        "train_crops, test_crops = torch.utils.data.random_split(crops, [hparams['train_dataset_size'], hparams['test_dataset_size'],])"
      ],
      "execution_count": 115,
      "outputs": []
    },
    {
      "cell_type": "code",
      "metadata": {
        "id": "qa1PTuo_Bc9n",
        "colab_type": "code",
        "colab": {}
      },
      "source": [
        "train_input_transform = transforms.Compose([\n",
        "  autoencoder.transforms.ConvertToGray(),\n",
        "  transforms.ToTensor(),\n",
        "])\n",
        "\n",
        "train_output_transform = transforms.Compose([transforms.ToTensor()])\n",
        "\n",
        "train_xydims_samples = autoencoder.datasets.XYDimsDataset(train_crops, train_input_transform, train_output_transform)"
      ],
      "execution_count": 116,
      "outputs": []
    },
    {
      "cell_type": "code",
      "metadata": {
        "id": "L5Rlhxt2SaaX",
        "colab_type": "code",
        "colab": {}
      },
      "source": [
        "# Show x from a few train samples\n",
        "few_train_x = [ sample[0] for sample in [train_xydims_samples[index] for index in range(4)] ]\n",
        "grid = torchvision.utils.make_grid(few_train_x, nrow=4)\n",
        "writer.add_image(\"2) x from a few train samples\", grid)\n",
        "writer.flush()"
      ],
      "execution_count": 117,
      "outputs": []
    },
    {
      "cell_type": "code",
      "metadata": {
        "id": "qm1qG67AUQx3",
        "colab_type": "code",
        "colab": {}
      },
      "source": [
        "# Show y from a few train samples\n",
        "few_train_y = [ sample[1] for sample in [train_xydims_samples[index] for index in range(4)] ]\n",
        "grid = torchvision.utils.make_grid(few_train_y, nrow=4)\n",
        "writer.add_image(\"3) y from a few train samples\", grid)\n",
        "writer.flush()"
      ],
      "execution_count": 118,
      "outputs": []
    },
    {
      "cell_type": "code",
      "metadata": {
        "id": "995Re_8_QU2g",
        "colab_type": "code",
        "colab": {}
      },
      "source": [
        "test_input_transform = transforms.Compose([\n",
        "  autoencoder.transforms.ConvertToGray(),\n",
        "  transforms.ToTensor(),\n",
        "])\n",
        "\n",
        "test_output_transform = transforms.Compose([transforms.ToTensor()])\n",
        "\n",
        "test_xydims_samples = autoencoder.datasets.XYDimsDataset(test_crops, test_input_transform, test_output_transform)"
      ],
      "execution_count": 119,
      "outputs": []
    },
    {
      "cell_type": "code",
      "metadata": {
        "id": "F4s-iajLXh6u",
        "colab_type": "code",
        "colab": {}
      },
      "source": [
        "# Show x from a few test samples\n",
        "few_test_x = [ sample[0] for sample in [test_xydims_samples[index] for index in range(4)] ]\n",
        "grid = torchvision.utils.make_grid(few_test_x, nrow=4)\n",
        "writer.add_image(\"4) x from a few test samples\", grid)\n",
        "writer.flush()"
      ],
      "execution_count": 120,
      "outputs": []
    },
    {
      "cell_type": "code",
      "metadata": {
        "id": "wIjvMjs-Xrry",
        "colab_type": "code",
        "colab": {}
      },
      "source": [
        "# Show y from a few train samples\n",
        "few_test_y = [ sample[1] for sample in [test_xydims_samples[index] for index in range(4)] ]\n",
        "grid = torchvision.utils.make_grid(few_test_y, nrow=4)\n",
        "writer.add_image(\"5) y from a few test samples\", grid)\n",
        "writer.flush()"
      ],
      "execution_count": 121,
      "outputs": []
    },
    {
      "cell_type": "code",
      "metadata": {
        "id": "-MxSoKSUnXgS",
        "colab_type": "code",
        "colab": {}
      },
      "source": [
        "train_loader = torch.utils.data.DataLoader(train_xydims_samples, batch_size=hparams['batch_size'], shuffle=True, num_workers=hparams['num_workers'])\n",
        "test_loader = torch.utils.data.DataLoader(test_xydims_samples, batch_size=hparams['batch_size'], shuffle=False, num_workers=hparams['num_workers'])"
      ],
      "execution_count": 122,
      "outputs": []
    },
    {
      "cell_type": "code",
      "metadata": {
        "id": "jOW0NNlhfHA5",
        "colab_type": "code",
        "colab": {}
      },
      "source": [
        "def train_epoch(train_loader, model, optimizer, criterion, hparams):\n",
        "    np.random.seed(datetime.datetime.now().microsecond)\n",
        "    model.train()\n",
        "    device = hparams['device']\n",
        "    losses = []\n",
        "    for batch_idx, (data, target, _, _) in enumerate(train_loader):\n",
        "        data = data.to(device)\n",
        "        target = target.to(device)\n",
        "        optimizer.zero_grad()\n",
        "        output = model(data)\n",
        "        loss = criterion(output, target)\n",
        "        loss.backward()\n",
        "        optimizer.step()\n",
        "        losses.append(loss.item())\n",
        "    return np.mean(losses)\n",
        "\n",
        "def eval_epoch(val_loader, model, criterion, hparams):\n",
        "    np.random.seed(0)\n",
        "    model.eval()\n",
        "    device = hparams['device']\n",
        "    eval_losses = []\n",
        "    with torch.no_grad():\n",
        "        for data, target, _, _ in val_loader:\n",
        "            data = data.to(device)\n",
        "            target = target.to(device)\n",
        "            output = model(data)\n",
        "            eval_losses.append(criterion(output, target).item())\n",
        "    return np.mean(eval_losses)"
      ],
      "execution_count": 123,
      "outputs": []
    },
    {
      "cell_type": "code",
      "metadata": {
        "id": "iFiW6iqoWmZs",
        "colab_type": "code",
        "colab": {}
      },
      "source": [
        "class Autoencoder(nn.Module):\n",
        "\n",
        "    def __init__(self):\n",
        "        super().__init__()\n",
        "\n",
        "        self.features = nn.Sequential(\n",
        "            nn.Conv2d(3, 32, kernel_size=3, stride=1, padding=1, padding_mode='replicate'),\n",
        "            nn.ReLU(),\n",
        "        )\n",
        "\n",
        "        self.upsample = nn.Sequential(\n",
        "            nn.ConvTranspose2d(32, 3, kernel_size=3, stride=1, padding=1, output_padding=0),\n",
        "            nn.ReLU(),\n",
        "        )\n",
        "\n",
        "    def forward(self, x):\n",
        "        x = self.features(x)\n",
        "        x = self.upsample(x)\n",
        "        return x"
      ],
      "execution_count": 124,
      "outputs": []
    },
    {
      "cell_type": "code",
      "metadata": {
        "id": "K-TS737bhbTg",
        "colab_type": "code",
        "colab": {}
      },
      "source": [
        "model = Autoencoder()\n",
        "model.to(hparams['device'])\n",
        "optimizer = optim.Adam(model.parameters(), weight_decay=1e-4)\n",
        "criterion = nn.MSELoss()\n",
        "\n",
        "num_epochs = hparams['num_epochs']\n",
        "\n",
        "try:\n",
        "    for epoch in range(num_epochs):\n",
        "        train_loss = train_epoch( train_loader, model, optimizer, criterion, hparams)\n",
        "        test_loss = eval_epoch(test_loader, model, criterion, hparams)\n",
        "        writer.add_scalar(\"train loss\", train_loss, global_step=epoch)\n",
        "        writer.add_scalar(\"test loss\", test_loss, global_step=epoch)\n",
        "        writer.flush()\n",
        "except KeyboardInterrupt:\n",
        "    print('-' * 89)\n",
        "    print('Exiting from training early')"
      ],
      "execution_count": 125,
      "outputs": []
    },
    {
      "cell_type": "code",
      "metadata": {
        "id": "6XnXtXHZfSVe",
        "colab_type": "code",
        "colab": {}
      },
      "source": [
        "writer.close()"
      ],
      "execution_count": 126,
      "outputs": []
    }
  ]
}