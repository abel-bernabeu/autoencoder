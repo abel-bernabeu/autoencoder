{
 "cells": [
  {
   "cell_type": "code",
   "execution_count": null,
   "metadata": {},
   "outputs": [],
   "source": [
    "# For running on Google Colab:\n",
    "#\n",
    "# 1) Open the notebook from GitHub\n",
    "# 1) Download autoencoder-master.zip from GitHub to your local machine\n",
    "# 2) Upload to the Google Colab notebook\n",
    "# 3) Uncomment the following shell commands\n",
    "# 4) Run the cell\n",
    "#\n",
    "#!rm -rf autoencoder-master autoencoder\n",
    "#!unzip -o autoencoder-master.zip -d .\n",
    "#!mv autoencoder-master autoencoder"
   ]
  },
  {
   "cell_type": "code",
   "execution_count": null,
   "metadata": {},
   "outputs": [],
   "source": [
    "import autoencoder.models.quantization\n",
    "import autoencoder"
   ]
  },
  {
   "cell_type": "code",
   "execution_count": null,
   "metadata": {},
   "outputs": [],
   "source": [
    "autoencoder.train()\n",
    "quant = autoencoder.models.quantization.Quantize()"
   ]
  },
  {
   "cell_type": "code",
   "execution_count": null,
   "metadata": {},
   "outputs": [],
   "source": []
  }
 ],
 "metadata": {
  "kernelspec": {
   "display_name": "Python 3",
   "language": "python",
   "name": "python3"
  },
  "language_info": {
   "codemirror_mode": {
    "name": "ipython",
    "version": 3
   },
   "file_extension": ".py",
   "mimetype": "text/x-python",
   "name": "python",
   "nbconvert_exporter": "python",
   "pygments_lexer": "ipython3",
   "version": "3.6.9"
  }
 },
 "nbformat": 4,
 "nbformat_minor": 2
}
