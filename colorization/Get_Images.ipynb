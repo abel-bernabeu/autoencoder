{
 "cells": [
  {
   "cell_type": "code",
   "execution_count": 48,
   "metadata": {},
   "outputs": [],
   "source": [
    "# Importing necessary libraries \n",
    "import cv2 \n",
    "import numpy as np\n",
    "import os\n",
    "import glob\n",
    "\n",
    "# creating a list of videos\n",
    "videos = []\n",
    "\n",
    "for file in glob.iglob('**/*.mp4', recursive=True):\n",
    "    videos += glob.glob(os.path.join(file))\n",
    "\n",
    "#print(videos)"
   ]
  },
  {
   "cell_type": "code",
   "execution_count": 49,
   "metadata": {},
   "outputs": [
    {
     "name": "stdout",
     "output_type": "stream",
     "text": [
      "132455\n"
     ]
    }
   ],
   "source": [
    "size = len(videos)\n",
    "print(size)"
   ]
  },
  {
   "cell_type": "code",
   "execution_count": 50,
   "metadata": {},
   "outputs": [],
   "source": [
    "try: \n",
    "    #creating a folder named data \n",
    "    if not os.path.exists('image_dataset'): \n",
    "        os.makedirs('image_dataset') \n",
    "\n",
    "# if not created then raise error \n",
    "except OSError: \n",
    "    print ('Error: Creating directory of data') "
   ]
  },
  {
   "cell_type": "code",
   "execution_count": 51,
   "metadata": {},
   "outputs": [],
   "source": [
    "# Read the videos from specified path \n",
    "for item in videos:\n",
    "    cam = cv2.VideoCapture(item)\n",
    "    # frame \n",
    "    currentframe = 0\n",
    "    #set frame name\n",
    "    framename = item.split('\\\\')\n",
    "    framename = framename[2] + framename[3]\n",
    "   \n",
    "    while(True): \n",
    "    \n",
    "    # get a frame every 2000 msec\n",
    "        cam.set(cv2.CAP_PROP_POS_MSEC,(currentframe*2000))\n",
    "    # 20 is the frame you want    \n",
    "        #cam.set(1,20); \n",
    "    # reading from frame \n",
    "        ret,frame = cam.read() \n",
    "\n",
    "        if ret: \n",
    "        # if video is still left continue creating images \n",
    "            name = './image_dataset/'+ framename + str(currentframe) + '.jpg'\n",
    "            #print ('Creating...' + name) \n",
    "\n",
    "        # writing the extracted images \n",
    "            cv2.imwrite(name, frame) \n",
    "\n",
    "        # increasing counter so that it will \n",
    "        # show how many frames are created \n",
    "            currentframe += 1\n",
    "        else: \n",
    "            break\n",
    "\n",
    "# Release all space and windows once done \n",
    "cam.release() \n",
    "cv2.destroyAllWindows()"
   ]
  },
  {
   "cell_type": "code",
   "execution_count": null,
   "metadata": {},
   "outputs": [],
   "source": []
  }
 ],
 "metadata": {
  "kernelspec": {
   "display_name": "Python 3",
   "language": "python",
   "name": "python3"
  },
  "language_info": {
   "codemirror_mode": {
    "name": "ipython",
    "version": 3
   },
   "file_extension": ".py",
   "mimetype": "text/x-python",
   "name": "python",
   "nbconvert_exporter": "python",
   "pygments_lexer": "ipython3",
   "version": "3.5.4"
  }
 },
 "nbformat": 4,
 "nbformat_minor": 4
}
